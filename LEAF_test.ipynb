{
 "cells": [
  {
   "cell_type": "code",
   "execution_count": 14,
   "metadata": {},
   "outputs": [],
   "source": [
    "import importlib\n",
    "import sklearn\n",
    "import sklearn.datasets\n",
    "import sklearn.ensemble\n",
    "from sklearn.metrics import classification_report\n",
    "from sklearn.linear_model import LogisticRegression, SGDClassifier\n",
    "import numpy as np\n",
    "import numpy.linalg as linalg\n",
    "import pandas as pd\n",
    "import matplotlib.pyplot as plt\n",
    "import sys, os, importlib, copy, re, math, warnings, itertools, time, datetime\n",
    "from imblearn.over_sampling import SMOTE\n",
    "import scipy.stats\n",
    "from termcolor import colored\n",
    "\n",
    "import leaf"
   ]
  },
  {
   "cell_type": "code",
   "execution_count": 19,
   "metadata": {},
   "outputs": [
    {
     "data": {
      "text/plain": [
       "<module 'leaf' from '/data/public/Amparore/LEAF/leaf.py'>"
      ]
     },
     "execution_count": 19,
     "metadata": {},
     "output_type": "execute_result"
    }
   ],
   "source": [
    "importlib.reload(leaf)"
   ]
  },
  {
   "cell_type": "code",
   "execution_count": 20,
   "metadata": {},
   "outputs": [
    {
     "name": "stdout",
     "output_type": "stream",
     "text": [
      "4239 rows loaded.\n",
      "features = ['male', 'age', 'education', 'currentSmoker', 'cigsPerDay', 'BPMeds', 'prevalentStroke', 'prevalentHyp', 'diabetes', 'totChol', 'sysBP', 'diaBP', 'BMI', 'heartRate', 'glucose', 'TARGET']\n",
      "  * LogisticRegression accuracy: 0.6390177353342429\n"
     ]
    }
   ],
   "source": [
    "hr_data = pd.read_csv('/data/public/Amparore/HeartRiskDataset/Machine-Learning1/datasetAll.txt', \n",
    "                      delimiter='\\t')\n",
    "del hr_data['P_ID']\n",
    "hr_data.rename(columns={'HeartRisk':\"TARGET\"}, inplace=True)\n",
    "print(len(hr_data),'rows loaded.')\n",
    "print('features =', hr_data.columns.tolist())\n",
    "hr_X = hr_data.drop('TARGET', axis=1)\n",
    "hr_Y = hr_data['TARGET'].astype('bool')==False\n",
    "hr_X.fillna(hr_X.mean(), inplace=True)\n",
    "hr_class_names=['OK', 'RISK']\n",
    "\n",
    "hr_ds = (hr_X, hr_Y, hr_class_names, \"heartrisk\")\n",
    "\n",
    "# Remove the features that we do not want in the regressor\n",
    "hr_X_train = hr_X\n",
    "# hr_X_train.male = 0\n",
    "# hr_X_train.age = 0\n",
    "# hr_X_train.education = 0\n",
    "\n",
    "# rf = sklearn.ensemble.RandomForestClassifier(n_estimators=5, max_depth=5, random_state=12345)\n",
    "rf = LogisticRegression(random_state=99, solver='liblinear')\n",
    "# rf = sklearn.ensemble.GradientBoostingClassifier(n_estimators=5, random_state=34)\n",
    "# rf = shap_lime.MyLinearRegression()\n",
    "hr_cls = leaf.train_rf(hr_X_train, hr_Y, rf=rf, verbose=False)"
   ]
  },
  {
   "cell_type": "code",
   "execution_count": 28,
   "metadata": {},
   "outputs": [],
   "source": [
    "X, Y, class_names, dset_name = hr_ds\n",
    "cls = hr_cls\n",
    "\n",
    "importlib.reload(leaf)\n",
    "l = leaf.LEAF(cls, X, class_names)\n",
    "l.explain_instance(X.iloc[0], class_names)"
   ]
  },
  {
   "cell_type": "code",
   "execution_count": null,
   "metadata": {},
   "outputs": [],
   "source": [
    "import lime\n",
    "from lime.lime_tabular import LimeTabularExplainer"
   ]
  },
  {
   "cell_type": "code",
   "execution_count": null,
   "metadata": {},
   "outputs": [],
   "source": []
  }
 ],
 "metadata": {
  "kernelspec": {
   "display_name": "Python 3",
   "language": "python",
   "name": "python3"
  },
  "language_info": {
   "codemirror_mode": {
    "name": "ipython",
    "version": 3
   },
   "file_extension": ".py",
   "mimetype": "text/x-python",
   "name": "python",
   "nbconvert_exporter": "python",
   "pygments_lexer": "ipython3",
   "version": "3.7.3"
  }
 },
 "nbformat": 4,
 "nbformat_minor": 2
}
